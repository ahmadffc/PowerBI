{
 "cells": [
  {
   "cell_type": "code",
   "execution_count": 1,
   "id": "878e06a3-f933-4a4a-9604-05bcf372575e",
   "metadata": {},
   "outputs": [],
   "source": [
    "import pandas as pd\n",
    "import numpy as np\n",
    "import matplotlib.pyplot as plt\n",
    "import seaborn as sns\n",
    "from sklearn.model_selection import train_test_split\n",
    "from sklearn.ensemble import RandomForestClassifier\n",
    "from sklearn.metrics import classification_report, confusion_matrix\n",
    "from sklearn.preprocessing import LabelEncoder\n",
    "import joblib"
   ]
  },
  {
   "cell_type": "markdown",
   "id": "215924d4-b1d7-4d90-b7dc-27e7bb19ffb5",
   "metadata": {},
   "source": [
    "# Define the path to the Excel file\n"
   ]
  },
  {
   "cell_type": "code",
   "execution_count": 3,
   "id": "51977b86-06bf-4df1-86ae-c993f577d797",
   "metadata": {},
   "outputs": [],
   "source": [
    "file_path = r\"C:\\Users\\mahma\\OneDrive\\Documents\\GitHub_preperation\\ChurnAnalysis_PowerBI\\Prediction_Data.xlsx\""
   ]
  },
  {
   "cell_type": "markdown",
   "id": "8b88a2ec-3a3c-4b17-a3bf-24b98cb1e97c",
   "metadata": {},
   "source": [
    "# Define the sheet name to read data from\n"
   ]
  },
  {
   "cell_type": "code",
   "execution_count": 4,
   "id": "be3592bd-dcc4-4e8b-b466-340fe3d4849e",
   "metadata": {},
   "outputs": [],
   "source": [
    "sheet_name = 'vw_ChurnData'\n"
   ]
  },
  {
   "cell_type": "markdown",
   "id": "7ff4a228-a724-4660-a530-f41f2a269597",
   "metadata": {},
   "source": [
    "# Read the data from the specified sheet into a pandas DataFrame\n"
   ]
  },
  {
   "cell_type": "code",
   "execution_count": 6,
   "id": "25145f92-9554-4b55-bc7f-983d17964932",
   "metadata": {},
   "outputs": [],
   "source": [
    "data = pd.read_excel(file_path, sheet_name=sheet_name)\n"
   ]
  },
  {
   "cell_type": "markdown",
   "id": "d20bd2cd-380a-47b9-a7a3-dac9cf25dabc",
   "metadata": {},
   "source": [
    "# Display the first few rows of the fetched data\n"
   ]
  },
  {
   "cell_type": "code",
   "execution_count": 7,
   "id": "8907d809-afd1-4fb5-8ecb-061082a12e82",
   "metadata": {},
   "outputs": [
    {
     "name": "stdout",
     "output_type": "stream",
     "text": [
      "  Customer_ID  Gender  Age Married           State  Number_of_Referrals  \\\n",
      "0   12266-HAR  Female   46      No         Haryana                    2   \n",
      "1   12272-WES    Male   66      No     West Bengal                    9   \n",
      "2   12281-RAJ    Male   80      No       Rajasthan                   14   \n",
      "3   12296-MAD    Male   65     Yes  Madhya Pradesh                   14   \n",
      "4   12303-BIH  Female   56      No           Bihar                    7   \n",
      "\n",
      "   Tenure_in_Months Value_Deal Phone_Service Multiple_Lines  ...  \\\n",
      "0                 5        NaN           Yes            Yes  ...   \n",
      "1                 8        NaN            No             No  ...   \n",
      "2                25        NaN           Yes            Yes  ...   \n",
      "3                 2        NaN            No             No  ...   \n",
      "4                14        NaN           Yes            Yes  ...   \n",
      "\n",
      "    Payment_Method Monthly_Charge Total_Charges Total_Refunds  \\\n",
      "0  Bank Withdrawal      79.650002   3870.300049           0.0   \n",
      "1      Credit Card      39.099998   1982.099976           0.0   \n",
      "2      Credit Card      78.099998    864.849976           0.0   \n",
      "3  Bank Withdrawal      45.000000   1228.650024           0.0   \n",
      "4      Credit Card      88.550003   6362.350098           0.0   \n",
      "\n",
      "  Total_Extra_Data_Charges Total_Long_Distance_Charges Total_Revenue  \\\n",
      "0                        0                  429.119995   4299.419922   \n",
      "1                      130                    0.000000   2112.100098   \n",
      "2                        0                  194.259995   1059.109985   \n",
      "3                        0                    0.000000   1228.650024   \n",
      "4                        0                 3319.199951   9681.549805   \n",
      "\n",
      "  Customer_Status Churn_Category Churn_Reason  \n",
      "0          Stayed         Others       Others  \n",
      "1          Stayed         Others       Others  \n",
      "2          Stayed         Others       Others  \n",
      "3          Stayed         Others       Others  \n",
      "4          Stayed         Others       Others  \n",
      "\n",
      "[5 rows x 32 columns]\n"
     ]
    }
   ],
   "source": [
    "print(data.head())\n"
   ]
  },
  {
   "cell_type": "markdown",
   "id": "508a5c21-256f-40e7-82ce-69f190d31e36",
   "metadata": {},
   "source": [
    "# Data Preprocessing"
   ]
  },
  {
   "cell_type": "markdown",
   "id": "ac63ecc3-17dc-44dc-bf41-268f35fcc27a",
   "metadata": {},
   "source": [
    "# Drop columns that won't be used for prediction\n",
    "\n"
   ]
  },
  {
   "cell_type": "code",
   "execution_count": 8,
   "id": "8d9dfaa6-e771-474e-a1bc-fd285efbfb17",
   "metadata": {},
   "outputs": [],
   "source": [
    "data = data.drop(['Customer_ID', 'Churn_Category', 'Churn_Reason'], axis=1)"
   ]
  },
  {
   "cell_type": "markdown",
   "id": "8fc3fad5-2e10-45bd-9bb6-359a07bff2d2",
   "metadata": {},
   "source": [
    "# List of columns to be label encoded\n",
    "\n"
   ]
  },
  {
   "cell_type": "code",
   "execution_count": 9,
   "id": "00ddb9d6-69d7-41b7-b8cc-cf0f8305835b",
   "metadata": {},
   "outputs": [],
   "source": [
    "columns_to_encode = [\n",
    "    'Gender', 'Married', 'State', 'Value_Deal', 'Phone_Service', 'Multiple_Lines',\n",
    "    'Internet_Service', 'Internet_Type', 'Online_Security', 'Online_Backup',\n",
    "    'Device_Protection_Plan', 'Premium_Support', 'Streaming_TV', 'Streaming_Movies',\n",
    "    'Streaming_Music', 'Unlimited_Data', 'Contract', 'Paperless_Billing',\n",
    "    'Payment_Method'\n",
    "]"
   ]
  },
  {
   "cell_type": "markdown",
   "id": "f8f9aa39-1190-4e2e-abfb-b383ed212d55",
   "metadata": {},
   "source": [
    "# Encode categorical variables except the target variable\n"
   ]
  },
  {
   "cell_type": "code",
   "execution_count": 10,
   "id": "f64b5334-6340-4e97-9183-c5b5cf022f95",
   "metadata": {},
   "outputs": [],
   "source": [
    "label_encoders = {}\n",
    "for column in columns_to_encode:\n",
    "    label_encoders[column] = LabelEncoder()\n",
    "    data[column] = label_encoders[column].fit_transform(data[column])\n"
   ]
  },
  {
   "cell_type": "markdown",
   "id": "091c7b13-f01e-4d5c-b7ea-5e220c624cfc",
   "metadata": {},
   "source": [
    "# Manually encode the target variable 'Customer_Status'\n"
   ]
  },
  {
   "cell_type": "code",
   "execution_count": 11,
   "id": "64bffce4-9ba9-4082-bcfb-651fc24b97b1",
   "metadata": {},
   "outputs": [],
   "source": [
    "data['Customer_Status'] = data['Customer_Status'].map({'Stayed': 0, 'Churned': 1})\n"
   ]
  },
  {
   "cell_type": "markdown",
   "id": "b990f303-c1df-4da2-906d-5bd75416244d",
   "metadata": {},
   "source": [
    "# Split data into features and target\n"
   ]
  },
  {
   "cell_type": "code",
   "execution_count": 12,
   "id": "0cddca89-0be0-489b-b09d-c6b883677324",
   "metadata": {},
   "outputs": [],
   "source": [
    "X = data.drop('Customer_Status', axis=1)\n",
    "y = data['Customer_Status']\n"
   ]
  },
  {
   "cell_type": "markdown",
   "id": "ce2e4088-e1bb-459c-8334-403ccb529126",
   "metadata": {},
   "source": [
    "# Split data into training and testing sets\n"
   ]
  },
  {
   "cell_type": "code",
   "execution_count": 13,
   "id": "b5734d84-93bf-4c99-a542-d8fab7a0e68d",
   "metadata": {},
   "outputs": [],
   "source": [
    "X_train, X_test, y_train, y_test = train_test_split(X, y, test_size=0.2, random_state=42)\n"
   ]
  },
  {
   "cell_type": "markdown",
   "id": "614cebf5-663c-4f3d-8f75-427ef58c2ad0",
   "metadata": {},
   "source": [
    "# Train Random Forest Model"
   ]
  },
  {
   "cell_type": "markdown",
   "id": "19195e9e-3e76-4e1e-8041-da7fce3f1dc7",
   "metadata": {},
   "source": [
    "# Initialize the Random Forest Classifier\n"
   ]
  },
  {
   "cell_type": "code",
   "execution_count": 14,
   "id": "e9fd5173-bbbc-4fd6-a041-5977909da9f5",
   "metadata": {},
   "outputs": [],
   "source": [
    "rf_model = RandomForestClassifier(n_estimators=100, random_state=42)\n"
   ]
  },
  {
   "cell_type": "markdown",
   "id": "fc6b05df-143e-4d8e-8cfc-f7be2abb9392",
   "metadata": {},
   "source": [
    "# Train the model\n"
   ]
  },
  {
   "cell_type": "code",
   "execution_count": 15,
   "id": "716dcc9e-c7c6-4cf0-9275-6f35b91d40fb",
   "metadata": {},
   "outputs": [
    {
     "data": {
      "text/html": [
       "<style>#sk-container-id-1 {color: black;background-color: white;}#sk-container-id-1 pre{padding: 0;}#sk-container-id-1 div.sk-toggleable {background-color: white;}#sk-container-id-1 label.sk-toggleable__label {cursor: pointer;display: block;width: 100%;margin-bottom: 0;padding: 0.3em;box-sizing: border-box;text-align: center;}#sk-container-id-1 label.sk-toggleable__label-arrow:before {content: \"▸\";float: left;margin-right: 0.25em;color: #696969;}#sk-container-id-1 label.sk-toggleable__label-arrow:hover:before {color: black;}#sk-container-id-1 div.sk-estimator:hover label.sk-toggleable__label-arrow:before {color: black;}#sk-container-id-1 div.sk-toggleable__content {max-height: 0;max-width: 0;overflow: hidden;text-align: left;background-color: #f0f8ff;}#sk-container-id-1 div.sk-toggleable__content pre {margin: 0.2em;color: black;border-radius: 0.25em;background-color: #f0f8ff;}#sk-container-id-1 input.sk-toggleable__control:checked~div.sk-toggleable__content {max-height: 200px;max-width: 100%;overflow: auto;}#sk-container-id-1 input.sk-toggleable__control:checked~label.sk-toggleable__label-arrow:before {content: \"▾\";}#sk-container-id-1 div.sk-estimator input.sk-toggleable__control:checked~label.sk-toggleable__label {background-color: #d4ebff;}#sk-container-id-1 div.sk-label input.sk-toggleable__control:checked~label.sk-toggleable__label {background-color: #d4ebff;}#sk-container-id-1 input.sk-hidden--visually {border: 0;clip: rect(1px 1px 1px 1px);clip: rect(1px, 1px, 1px, 1px);height: 1px;margin: -1px;overflow: hidden;padding: 0;position: absolute;width: 1px;}#sk-container-id-1 div.sk-estimator {font-family: monospace;background-color: #f0f8ff;border: 1px dotted black;border-radius: 0.25em;box-sizing: border-box;margin-bottom: 0.5em;}#sk-container-id-1 div.sk-estimator:hover {background-color: #d4ebff;}#sk-container-id-1 div.sk-parallel-item::after {content: \"\";width: 100%;border-bottom: 1px solid gray;flex-grow: 1;}#sk-container-id-1 div.sk-label:hover label.sk-toggleable__label {background-color: #d4ebff;}#sk-container-id-1 div.sk-serial::before {content: \"\";position: absolute;border-left: 1px solid gray;box-sizing: border-box;top: 0;bottom: 0;left: 50%;z-index: 0;}#sk-container-id-1 div.sk-serial {display: flex;flex-direction: column;align-items: center;background-color: white;padding-right: 0.2em;padding-left: 0.2em;position: relative;}#sk-container-id-1 div.sk-item {position: relative;z-index: 1;}#sk-container-id-1 div.sk-parallel {display: flex;align-items: stretch;justify-content: center;background-color: white;position: relative;}#sk-container-id-1 div.sk-item::before, #sk-container-id-1 div.sk-parallel-item::before {content: \"\";position: absolute;border-left: 1px solid gray;box-sizing: border-box;top: 0;bottom: 0;left: 50%;z-index: -1;}#sk-container-id-1 div.sk-parallel-item {display: flex;flex-direction: column;z-index: 1;position: relative;background-color: white;}#sk-container-id-1 div.sk-parallel-item:first-child::after {align-self: flex-end;width: 50%;}#sk-container-id-1 div.sk-parallel-item:last-child::after {align-self: flex-start;width: 50%;}#sk-container-id-1 div.sk-parallel-item:only-child::after {width: 0;}#sk-container-id-1 div.sk-dashed-wrapped {border: 1px dashed gray;margin: 0 0.4em 0.5em 0.4em;box-sizing: border-box;padding-bottom: 0.4em;background-color: white;}#sk-container-id-1 div.sk-label label {font-family: monospace;font-weight: bold;display: inline-block;line-height: 1.2em;}#sk-container-id-1 div.sk-label-container {text-align: center;}#sk-container-id-1 div.sk-container {/* jupyter's `normalize.less` sets `[hidden] { display: none; }` but bootstrap.min.css set `[hidden] { display: none !important; }` so we also need the `!important` here to be able to override the default hidden behavior on the sphinx rendered scikit-learn.org. See: https://github.com/scikit-learn/scikit-learn/issues/21755 */display: inline-block !important;position: relative;}#sk-container-id-1 div.sk-text-repr-fallback {display: none;}</style><div id=\"sk-container-id-1\" class=\"sk-top-container\"><div class=\"sk-text-repr-fallback\"><pre>RandomForestClassifier(random_state=42)</pre><b>In a Jupyter environment, please rerun this cell to show the HTML representation or trust the notebook. <br />On GitHub, the HTML representation is unable to render, please try loading this page with nbviewer.org.</b></div><div class=\"sk-container\" hidden><div class=\"sk-item\"><div class=\"sk-estimator sk-toggleable\"><input class=\"sk-toggleable__control sk-hidden--visually\" id=\"sk-estimator-id-1\" type=\"checkbox\" checked><label for=\"sk-estimator-id-1\" class=\"sk-toggleable__label sk-toggleable__label-arrow\">RandomForestClassifier</label><div class=\"sk-toggleable__content\"><pre>RandomForestClassifier(random_state=42)</pre></div></div></div></div></div>"
      ],
      "text/plain": [
       "RandomForestClassifier(random_state=42)"
      ]
     },
     "execution_count": 15,
     "metadata": {},
     "output_type": "execute_result"
    }
   ],
   "source": [
    "rf_model.fit(X_train, y_train)\n"
   ]
  },
  {
   "cell_type": "markdown",
   "id": "1a10e506-9ac0-4240-adfe-b3b1edd0df3a",
   "metadata": {},
   "source": [
    "# Evaluate Model"
   ]
  },
  {
   "cell_type": "markdown",
   "id": "083bdaf8-142b-4703-9c11-e0f8879e39ee",
   "metadata": {},
   "source": [
    "# Make predictions\n"
   ]
  },
  {
   "cell_type": "code",
   "execution_count": 16,
   "id": "4a3d0070-35fe-45d7-b109-634492227735",
   "metadata": {},
   "outputs": [],
   "source": [
    "y_pred = rf_model.predict(X_test)\n"
   ]
  },
  {
   "cell_type": "markdown",
   "id": "fd824f90-5eaa-4d81-9cbf-8dea5c65acd5",
   "metadata": {},
   "source": [
    "# Evaluate the model"
   ]
  },
  {
   "cell_type": "code",
   "execution_count": 17,
   "id": "36a518e5-26f0-4c2a-ad26-36bef9657cf5",
   "metadata": {},
   "outputs": [
    {
     "name": "stdout",
     "output_type": "stream",
     "text": [
      "Confusion Matrix:\n",
      "[[814  48]\n",
      " [136 204]]\n",
      "\n",
      "Classification Report:\n",
      "              precision    recall  f1-score   support\n",
      "\n",
      "           0       0.86      0.94      0.90       862\n",
      "           1       0.81      0.60      0.69       340\n",
      "\n",
      "    accuracy                           0.85      1202\n",
      "   macro avg       0.83      0.77      0.79      1202\n",
      "weighted avg       0.84      0.85      0.84      1202\n",
      "\n"
     ]
    }
   ],
   "source": [
    "print(\"Confusion Matrix:\")\n",
    "print(confusion_matrix(y_test, y_pred))\n",
    "print(\"\\nClassification Report:\")\n",
    "print(classification_report(y_test, y_pred))\n"
   ]
  },
  {
   "cell_type": "markdown",
   "id": "c6b5fdc7-e48f-412a-8b2c-0750165f0b38",
   "metadata": {},
   "source": [
    "# Feature Selection using Feature Importance"
   ]
  },
  {
   "cell_type": "code",
   "execution_count": 18,
   "id": "c7234d7a-c7e6-48ff-892d-09b5a5212c32",
   "metadata": {},
   "outputs": [],
   "source": [
    "importances = rf_model.feature_importances_\n",
    "indices = np.argsort(importances)[::-1]\n"
   ]
  },
  {
   "cell_type": "markdown",
   "id": "fff8c780-b14a-4827-b68c-dfb3544b75c0",
   "metadata": {},
   "source": [
    "# Plot the feature importances\n"
   ]
  },
  {
   "cell_type": "code",
   "execution_count": 19,
   "id": "1c933211-1392-4a81-b470-3676b4f3f20f",
   "metadata": {},
   "outputs": [
    {
     "data": {
      "image/png": "[encoded data removed]",
      "text/plain": [
       "<Figure size 1500x600 with 1 Axes>"
      ]
     },
     "metadata": {},
     "output_type": "display_data"
    }
   ],
   "source": [
    "plt.figure(figsize=(15, 6))\n",
    "sns.barplot(x=importances[indices], y=X.columns[indices])\n",
    "plt.title('Feature Importances')\n",
    "plt.xlabel('Relative Importance')\n",
    "plt.ylabel('Feature Names')\n",
    "plt.show()\n"
   ]
  },
  {
   "cell_type": "markdown",
   "id": "4c9b715b-028b-4c65-ab66-73a11876d53b",
   "metadata": {},
   "source": [
    "# Use Model for Prediction on New Data"
   ]
  },
  {
   "cell_type": "code",
   "execution_count": 20,
   "id": "ec028e2c-1f08-4171-a727-2d2e1830ee11",
   "metadata": {},
   "outputs": [],
   "source": [
    "# Define the path to the Joiner Data Excel file\n",
    "file_path = r\"C:\\Users\\mahma\\OneDrive\\Documents\\GitHub_preperation\\ChurnAnalysis_PowerBI\\Prediction_Data.xlsx\""
   ]
  },
  {
   "cell_type": "code",
   "execution_count": 21,
   "id": "f2fdee8c-dcbf-4545-90d9-488f2e3de846",
   "metadata": {},
   "outputs": [],
   "source": [
    "# Define the sheet name to read data from\n",
    "sheet_name = 'vw_JoinData'\n"
   ]
  },
  {
   "cell_type": "code",
   "execution_count": 22,
   "id": "a5864b07-8b3f-4c9a-aa29-29cdfd443f36",
   "metadata": {},
   "outputs": [],
   "source": [
    "# Read the data from the specified sheet into a pandas DataFrame\n",
    "new_data = pd.read_excel(file_path, sheet_name=sheet_name)\n"
   ]
  },
  {
   "cell_type": "code",
   "execution_count": 23,
   "id": "76e53864-a8c2-4528-998a-530f43ca1ab2",
   "metadata": {},
   "outputs": [
    {
     "name": "stdout",
     "output_type": "stream",
     "text": [
      "  Customer_ID  Gender  Age Married           State  Number_of_Referrals  \\\n",
      "0   12340-DEL  Female   51     Yes           Delhi                    0   \n",
      "1   12469-AND    Male   24     Yes  Andhra Pradesh                   11   \n",
      "2   12490-TEL  Female   52      No       Telangana                    9   \n",
      "3   18015-ODI  Female   28     Yes          Odisha                   15   \n",
      "4   18027-UTT  Female   58     Yes   Uttar Pradesh                   15   \n",
      "\n",
      "   Tenure_in_Months Value_Deal Phone_Service Multiple_Lines  ...  \\\n",
      "0                10        NaN           Yes             No  ...   \n",
      "1                 4        NaN           Yes             No  ...   \n",
      "2                 6        NaN           Yes             No  ...   \n",
      "3                 9        NaN           Yes             No  ...   \n",
      "4                30     Deal 5           Yes             No  ...   \n",
      "\n",
      "    Payment_Method Monthly_Charge Total_Charges Total_Refunds  \\\n",
      "0      Credit Card      62.799999     62.799999          0.00   \n",
      "1      Credit Card      55.299999     55.299999          0.00   \n",
      "2     Mailed Check      74.750000    238.100006         38.84   \n",
      "3  Bank Withdrawal      49.900002     49.900002          0.00   \n",
      "4      Credit Card      19.900000     33.700001          0.00   \n",
      "\n",
      "  Total_Extra_Data_Charges Total_Long_Distance_Charges Total_Revenue  \\\n",
      "0                        0                   42.189999    104.989998   \n",
      "1                        0                   36.689999     91.989998   \n",
      "2                        0                   37.500000    236.759995   \n",
      "3                        0                   14.930000     64.830002   \n",
      "4                        0                    7.640000     41.340000   \n",
      "\n",
      "  Customer_Status Churn_Category Churn_Reason  \n",
      "0          Joined         Others       Others  \n",
      "1          Joined         Others       Others  \n",
      "2          Joined         Others       Others  \n",
      "3          Joined         Others       Others  \n",
      "4          Joined         Others       Others  \n",
      "\n",
      "[5 rows x 32 columns]\n"
     ]
    }
   ],
   "source": [
    "# Display the first few rows of the fetched data\n",
    "print(new_data.head())\n"
   ]
  },
  {
   "cell_type": "code",
   "execution_count": 24,
   "id": "3c430a76-b91e-4feb-ad6a-041cf9901697",
   "metadata": {},
   "outputs": [],
   "source": [
    "# Retain the original DataFrame to preserve unencoded columns\n",
    "original_data = new_data.copy()\n"
   ]
  },
  {
   "cell_type": "code",
   "execution_count": 25,
   "id": "12c036be-058a-4232-b066-3f6d90ea85c4",
   "metadata": {},
   "outputs": [],
   "source": [
    "# Retain the Customer_ID column\n",
    "customer_ids = new_data['Customer_ID']\n"
   ]
  },
  {
   "cell_type": "code",
   "execution_count": 26,
   "id": "1ac1c3d6-24b6-43c3-8323-d2126832221b",
   "metadata": {},
   "outputs": [],
   "source": [
    "# Drop columns that won't be used for prediction in the encoded DataFrame\n",
    "new_data = new_data.drop(['Customer_ID', 'Customer_Status', 'Churn_Category', 'Churn_Reason'], axis=1)\n"
   ]
  },
  {
   "cell_type": "code",
   "execution_count": 27,
   "id": "5ad2632a-c0ca-4caf-9c14-07869f588a36",
   "metadata": {},
   "outputs": [],
   "source": [
    "# Encode categorical variables using the saved label encoders\n",
    "for column in new_data.select_dtypes(include=['object']).columns:\n",
    "    new_data[column] = label_encoders[column].transform(new_data[column])\n"
   ]
  },
  {
   "cell_type": "code",
   "execution_count": 28,
   "id": "64809bc9-69de-4dc1-b83d-751dc35e7ca3",
   "metadata": {},
   "outputs": [],
   "source": [
    "# Make predictions\n",
    "new_predictions = rf_model.predict(new_data)\n"
   ]
  },
  {
   "cell_type": "code",
   "execution_count": 29,
   "id": "72fd81d6-1198-41d9-ade0-cd9622ac8d3a",
   "metadata": {},
   "outputs": [],
   "source": [
    "# Add predictions to the original DataFrame\n",
    "original_data['Customer_Status_Predicted'] = new_predictions\n"
   ]
  },
  {
   "cell_type": "code",
   "execution_count": 30,
   "id": "013cfe8a-d8a0-48aa-aeab-cdaa3789ab38",
   "metadata": {},
   "outputs": [],
   "source": [
    "# Filter the DataFrame to include only records predicted as \"Churned\"\n",
    "original_data = original_data[original_data['Customer_Status_Predicted'] == 1]\n"
   ]
  },
  {
   "cell_type": "code",
   "execution_count": 31,
   "id": "8f7bdacb-5acc-4657-9647-1b48caa16b8b",
   "metadata": {},
   "outputs": [],
   "source": [
    "# Save the results\n",
    "original_data.to_csv(r\"C:\\Users\\mahma\\OneDrive\\Documents\\GitHub_preperation\\ChurnAnalysis_PowerBI\\Predictions.csv\", index=False)"
   ]
  },
  {
   "cell_type": "code",
   "execution_count": null,
   "id": "ad40f5cd-2b8e-43bd-b2d4-a4d816014b42",
   "metadata": {},
   "outputs": [],
   "source": []
  }
 ],
 "metadata": {
  "kernelspec": {
   "display_name": "Python 3 (ipykernel)",
   "language": "python",
   "name": "python3"
  },
  "language_info": {
   "codemirror_mode": {
    "name": "ipython",
    "version": 3
   },
   "file_extension": ".py",
   "mimetype": "text/x-python",
   "name": "python",
   "nbconvert_exporter": "python",
   "pygments_lexer": "ipython3",
   "version": "3.11.7"
  }
 },
 "nbformat": 4,
 "nbformat_minor": 5
}
